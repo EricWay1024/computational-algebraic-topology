{
 "cells": [
  {
   "cell_type": "code",
   "execution_count": 57,
   "metadata": {},
   "outputs": [],
   "source": [
    "import pandas as pd\n",
    "import numpy as np"
   ]
  },
  {
   "cell_type": "code",
   "execution_count": 58,
   "metadata": {},
   "outputs": [],
   "source": [
    "basis = [\n",
    "    'a', \n",
    "    'b',\n",
    "    'c',\n",
    "    'd',\n",
    "    'ab',\n",
    "    'ac',\n",
    "    'bc',\n",
    "    'bd',\n",
    "    'cd',\n",
    "    'bcd',\n",
    "]\n",
    "n = len(basis)\n",
    "D = np.zeros((n, n))"
   ]
  },
  {
   "cell_type": "code",
   "execution_count": 59,
   "metadata": {},
   "outputs": [],
   "source": [
    "def print_D():\n",
    "    df = pd.DataFrame(D, columns=basis, index=basis)\n",
    "    print(df)"
   ]
  },
  {
   "cell_type": "code",
   "execution_count": 60,
   "metadata": {},
   "outputs": [
    {
     "name": "stdout",
     "output_type": "stream",
     "text": [
      "       a    b    c    d   ab   ac   bc   bd   cd  bcd\n",
      "a    0.0  0.0  0.0  0.0 -1.0 -1.0  0.0  0.0  0.0  0.0\n",
      "b    0.0  0.0  0.0  0.0  1.0  0.0 -1.0 -1.0  0.0  0.0\n",
      "c    0.0  0.0  0.0  0.0  0.0  1.0  1.0  0.0 -1.0  0.0\n",
      "d    0.0  0.0  0.0  0.0  0.0  0.0  0.0  1.0  1.0  0.0\n",
      "ab   0.0  0.0  0.0  0.0  0.0  0.0  0.0  0.0  0.0  0.0\n",
      "ac   0.0  0.0  0.0  0.0  0.0  0.0  0.0  0.0  0.0  0.0\n",
      "bc   0.0  0.0  0.0  0.0  0.0  0.0  0.0  0.0  0.0  1.0\n",
      "bd   0.0  0.0  0.0  0.0  0.0  0.0  0.0  0.0  0.0 -1.0\n",
      "cd   0.0  0.0  0.0  0.0  0.0  0.0  0.0  0.0  0.0  1.0\n",
      "bcd  0.0  0.0  0.0  0.0  0.0  0.0  0.0  0.0  0.0  0.0\n"
     ]
    }
   ],
   "source": [
    "for k, v in enumerate(basis): \n",
    "    if len(v) == 1:\n",
    "        continue\n",
    "    for i in range(len(v)):\n",
    "        u = v[:i] + v[i+1:]\n",
    "        sgn = 1 if i % 2 == 0 else -1\n",
    "        j = basis.index(u)\n",
    "        D[j, k] = sgn\n",
    "\n",
    "print_D()"
   ]
  },
  {
   "cell_type": "code",
   "execution_count": 61,
   "metadata": {},
   "outputs": [
    {
     "name": "stdout",
     "output_type": "stream",
     "text": [
      "ab has low b\n",
      "ac has low c\n",
      "bc has low c\n",
      "bd has low d\n",
      "cd has low d\n",
      "bcd has low cd\n"
     ]
    }
   ],
   "source": [
    "def low(q):\n",
    "    for p in range(n - 1, -1, -1):\n",
    "        if D[p, q] != 0:\n",
    "            return p\n",
    "    return -1\n",
    "\n",
    "def print_low():\n",
    "    for q in range(n):\n",
    "        p = low(q)\n",
    "        if p != -1: \n",
    "            print(basis[q], 'has low', basis[p])\n",
    "\n",
    "print_low()"
   ]
  },
  {
   "cell_type": "code",
   "execution_count": 62,
   "metadata": {},
   "outputs": [],
   "source": [
    "def look_for(q, low_q):\n",
    "    if low_q == -1:\n",
    "        return None\n",
    "    for i in range(q):\n",
    "        if low(i) == low_q:\n",
    "            return i\n",
    "    return None"
   ]
  },
  {
   "cell_type": "code",
   "execution_count": 63,
   "metadata": {},
   "outputs": [
    {
     "name": "stdout",
     "output_type": "stream",
     "text": [
      "       a    b    c    d   ab   ac   bc   bd   cd  bcd\n",
      "a    0.0  0.0  0.0  0.0 -1.0 -1.0  0.0  0.0  0.0  0.0\n",
      "b    0.0  0.0  0.0  0.0  1.0  0.0 -1.0 -1.0  0.0  0.0\n",
      "c    0.0  0.0  0.0  0.0  0.0  1.0  1.0  0.0 -1.0  0.0\n",
      "d    0.0  0.0  0.0  0.0  0.0  0.0  0.0  1.0  1.0  0.0\n",
      "ab   0.0  0.0  0.0  0.0  0.0  0.0  0.0  0.0  0.0  0.0\n",
      "ac   0.0  0.0  0.0  0.0  0.0  0.0  0.0  0.0  0.0  0.0\n",
      "bc   0.0  0.0  0.0  0.0  0.0  0.0  0.0  0.0  0.0  1.0\n",
      "bd   0.0  0.0  0.0  0.0  0.0  0.0  0.0  0.0  0.0 -1.0\n",
      "cd   0.0  0.0  0.0  0.0  0.0  0.0  0.0  0.0  0.0  1.0\n",
      "bcd  0.0  0.0  0.0  0.0  0.0  0.0  0.0  0.0  0.0  0.0\n",
      "column bc will be mutated because it shares low c with ac\n",
      "       a    b    c    d   ab   ac   bc   bd   cd  bcd\n",
      "a    0.0  0.0  0.0  0.0 -1.0 -1.0  1.0  0.0  0.0  0.0\n",
      "b    0.0  0.0  0.0  0.0  1.0  0.0 -1.0 -1.0  0.0  0.0\n",
      "c    0.0  0.0  0.0  0.0  0.0  1.0  0.0  0.0 -1.0  0.0\n",
      "d    0.0  0.0  0.0  0.0  0.0  0.0  0.0  1.0  1.0  0.0\n",
      "ab   0.0  0.0  0.0  0.0  0.0  0.0  0.0  0.0  0.0  0.0\n",
      "ac   0.0  0.0  0.0  0.0  0.0  0.0  0.0  0.0  0.0  0.0\n",
      "bc   0.0  0.0  0.0  0.0  0.0  0.0  0.0  0.0  0.0  1.0\n",
      "bd   0.0  0.0  0.0  0.0  0.0  0.0  0.0  0.0  0.0 -1.0\n",
      "cd   0.0  0.0  0.0  0.0  0.0  0.0  0.0  0.0  0.0  1.0\n",
      "bcd  0.0  0.0  0.0  0.0  0.0  0.0  0.0  0.0  0.0  0.0\n",
      "column bc will be mutated because it shares low b with ab\n",
      "       a    b    c    d   ab   ac   bc   bd   cd  bcd\n",
      "a    0.0  0.0  0.0  0.0 -1.0 -1.0  0.0  0.0  0.0  0.0\n",
      "b    0.0  0.0  0.0  0.0  1.0  0.0  0.0 -1.0  0.0  0.0\n",
      "c    0.0  0.0  0.0  0.0  0.0  1.0  0.0  0.0 -1.0  0.0\n",
      "d    0.0  0.0  0.0  0.0  0.0  0.0  0.0  1.0  1.0  0.0\n",
      "ab   0.0  0.0  0.0  0.0  0.0  0.0  0.0  0.0  0.0  0.0\n",
      "ac   0.0  0.0  0.0  0.0  0.0  0.0  0.0  0.0  0.0  0.0\n",
      "bc   0.0  0.0  0.0  0.0  0.0  0.0  0.0  0.0  0.0  1.0\n",
      "bd   0.0  0.0  0.0  0.0  0.0  0.0  0.0  0.0  0.0 -1.0\n",
      "cd   0.0  0.0  0.0  0.0  0.0  0.0  0.0  0.0  0.0  1.0\n",
      "bcd  0.0  0.0  0.0  0.0  0.0  0.0  0.0  0.0  0.0  0.0\n",
      "column cd will be mutated because it shares low d with bd\n",
      "       a    b    c    d   ab   ac   bc   bd   cd  bcd\n",
      "a    0.0  0.0  0.0  0.0 -1.0 -1.0  0.0  0.0  0.0  0.0\n",
      "b    0.0  0.0  0.0  0.0  1.0  0.0  0.0 -1.0  1.0  0.0\n",
      "c    0.0  0.0  0.0  0.0  0.0  1.0  0.0  0.0 -1.0  0.0\n",
      "d    0.0  0.0  0.0  0.0  0.0  0.0  0.0  1.0  0.0  0.0\n",
      "ab   0.0  0.0  0.0  0.0  0.0  0.0  0.0  0.0  0.0  0.0\n",
      "ac   0.0  0.0  0.0  0.0  0.0  0.0  0.0  0.0  0.0  0.0\n",
      "bc   0.0  0.0  0.0  0.0  0.0  0.0  0.0  0.0  0.0  1.0\n",
      "bd   0.0  0.0  0.0  0.0  0.0  0.0  0.0  0.0  0.0 -1.0\n",
      "cd   0.0  0.0  0.0  0.0  0.0  0.0  0.0  0.0  0.0  1.0\n",
      "bcd  0.0  0.0  0.0  0.0  0.0  0.0  0.0  0.0  0.0  0.0\n",
      "column cd will be mutated because it shares low c with ac\n",
      "       a    b    c    d   ab   ac   bc   bd   cd  bcd\n",
      "a    0.0  0.0  0.0  0.0 -1.0 -1.0  0.0  0.0 -1.0  0.0\n",
      "b    0.0  0.0  0.0  0.0  1.0  0.0  0.0 -1.0  1.0  0.0\n",
      "c    0.0  0.0  0.0  0.0  0.0  1.0  0.0  0.0  0.0  0.0\n",
      "d    0.0  0.0  0.0  0.0  0.0  0.0  0.0  1.0  0.0  0.0\n",
      "ab   0.0  0.0  0.0  0.0  0.0  0.0  0.0  0.0  0.0  0.0\n",
      "ac   0.0  0.0  0.0  0.0  0.0  0.0  0.0  0.0  0.0  0.0\n",
      "bc   0.0  0.0  0.0  0.0  0.0  0.0  0.0  0.0  0.0  1.0\n",
      "bd   0.0  0.0  0.0  0.0  0.0  0.0  0.0  0.0  0.0 -1.0\n",
      "cd   0.0  0.0  0.0  0.0  0.0  0.0  0.0  0.0  0.0  1.0\n",
      "bcd  0.0  0.0  0.0  0.0  0.0  0.0  0.0  0.0  0.0  0.0\n",
      "column cd will be mutated because it shares low b with ab\n",
      "       a    b    c    d   ab   ac   bc   bd   cd  bcd\n",
      "a    0.0  0.0  0.0  0.0 -1.0 -1.0  0.0  0.0  0.0  0.0\n",
      "b    0.0  0.0  0.0  0.0  1.0  0.0  0.0 -1.0  0.0  0.0\n",
      "c    0.0  0.0  0.0  0.0  0.0  1.0  0.0  0.0  0.0  0.0\n",
      "d    0.0  0.0  0.0  0.0  0.0  0.0  0.0  1.0  0.0  0.0\n",
      "ab   0.0  0.0  0.0  0.0  0.0  0.0  0.0  0.0  0.0  0.0\n",
      "ac   0.0  0.0  0.0  0.0  0.0  0.0  0.0  0.0  0.0  0.0\n",
      "bc   0.0  0.0  0.0  0.0  0.0  0.0  0.0  0.0  0.0  1.0\n",
      "bd   0.0  0.0  0.0  0.0  0.0  0.0  0.0  0.0  0.0 -1.0\n",
      "cd   0.0  0.0  0.0  0.0  0.0  0.0  0.0  0.0  0.0  1.0\n",
      "bcd  0.0  0.0  0.0  0.0  0.0  0.0  0.0  0.0  0.0  0.0\n"
     ]
    }
   ],
   "source": [
    "print_D()\n",
    "for q in range(n):\n",
    "    while True:\n",
    "        p = low(q)\n",
    "        r = look_for(q, p)\n",
    "        if r is None:\n",
    "            break\n",
    "\n",
    "        print(f'column {basis[q]} will be mutated because it shares low {basis[p]} with {basis[r]}')\n",
    "        D[:, q] += (-D[p, q] / D[p, r]) * D[:, r]\n",
    "        print_D()\n"
   ]
  },
  {
   "cell_type": "code",
   "execution_count": 64,
   "metadata": {},
   "outputs": [
    {
     "name": "stdout",
     "output_type": "stream",
     "text": [
      "       a    b    c    d   ab   ac   bc   bd   cd  bcd\n",
      "a    0.0  0.0  0.0  0.0 -1.0 -1.0  0.0  0.0  0.0  0.0\n",
      "b    0.0  0.0  0.0  0.0  1.0  0.0  0.0 -1.0  0.0  0.0\n",
      "c    0.0  0.0  0.0  0.0  0.0  1.0  0.0  0.0  0.0  0.0\n",
      "d    0.0  0.0  0.0  0.0  0.0  0.0  0.0  1.0  0.0  0.0\n",
      "ab   0.0  0.0  0.0  0.0  0.0  0.0  0.0  0.0  0.0  0.0\n",
      "ac   0.0  0.0  0.0  0.0  0.0  0.0  0.0  0.0  0.0  0.0\n",
      "bc   0.0  0.0  0.0  0.0  0.0  0.0  0.0  0.0  0.0  1.0\n",
      "bd   0.0  0.0  0.0  0.0  0.0  0.0  0.0  0.0  0.0 -1.0\n",
      "cd   0.0  0.0  0.0  0.0  0.0  0.0  0.0  0.0  0.0  1.0\n",
      "bcd  0.0  0.0  0.0  0.0  0.0  0.0  0.0  0.0  0.0  0.0\n"
     ]
    }
   ],
   "source": [
    "print_D()"
   ]
  },
  {
   "cell_type": "code",
   "execution_count": 65,
   "metadata": {},
   "outputs": [
    {
     "name": "stdout",
     "output_type": "stream",
     "text": [
      "ab has low b\n",
      "ac has low c\n",
      "bd has low d\n",
      "bcd has low cd\n"
     ]
    }
   ],
   "source": [
    "print_low()"
   ]
  },
  {
   "cell_type": "code",
   "execution_count": 66,
   "metadata": {},
   "outputs": [
    {
     "name": "stdout",
     "output_type": "stream",
     "text": [
      "a cycle class born with a\n",
      "a cycle class born with b, killed by ab\n",
      "a cycle class born with c, killed by ac\n",
      "a cycle class born with bc\n",
      "a cycle class born with d, killed by bd\n",
      "a cycle class born with cd, killed by bcd\n"
     ]
    }
   ],
   "source": [
    "for q in range(n):\n",
    "\n",
    "    if np.all(D[:, q] == 0):\n",
    "        # this means q forms a cycle, because q can be represented \n",
    "        # by a linear combination of \n",
    "        # other columns and thus column q is eliminated in D'\n",
    "        flag = None\n",
    "        for r in range(n):\n",
    "            if q == low(r):\n",
    "                # in this case q is a boundary of r\n",
    "                flag = r\n",
    "                break\n",
    "        \n",
    "        if flag is None:\n",
    "            print(f'a cycle class born with {basis[q]}')\n",
    "\n",
    "    else:\n",
    "        # q is not a cycle, but it can kill a cycle, i.e. the cycle that \n",
    "        # becomes its boundary -- there must be such a cycle, otherwise\n",
    "        # q can't be there...\n",
    "        p = low(q)\n",
    "        print(f'a cycle class born with {basis[p]}, killed by {basis[q]}')\n",
    "\n"
   ]
  },
  {
   "cell_type": "code",
   "execution_count": 67,
   "metadata": {},
   "outputs": [
    {
     "name": "stdout",
     "output_type": "stream",
     "text": [
      "a cycle class born with a\n",
      "a cycle class born with b, killed by ab\n",
      "a cycle class born with c, killed by ac\n",
      "a cycle class born with d, killed by bd\n",
      "a cycle class born with bc\n",
      "a cycle class born with cd, killed by bcd\n"
     ]
    }
   ],
   "source": [
    "# preprocess the 'inverse function' of low\n",
    "# some row p may not be the low of any column, in that case row_inv.get(p) is None\n",
    "low_inv = {}\n",
    "for q in range(n):\n",
    "    low_inv[low(q)] = q\n",
    "\n",
    "for q in range(n):\n",
    "    if np.all(D[:, q] == 0):\n",
    "        # this means q forms a cycle, because q can be represented \n",
    "        # by a linear combination of \n",
    "        # other columns and thus column q is eliminated in D'\n",
    "        r = low_inv.get(q)\n",
    "        if r is None:\n",
    "            print(f'a cycle class born with {basis[q]}')\n",
    "        else:\n",
    "            print(f'a cycle class born with {basis[q]}, killed by {basis[r]}')\n",
    "            \n"
   ]
  }
 ],
 "metadata": {
  "kernelspec": {
   "display_name": "Python 3",
   "language": "python",
   "name": "python3"
  },
  "language_info": {
   "codemirror_mode": {
    "name": "ipython",
    "version": 3
   },
   "file_extension": ".py",
   "mimetype": "text/x-python",
   "name": "python",
   "nbconvert_exporter": "python",
   "pygments_lexer": "ipython3",
   "version": "3.10.11"
  }
 },
 "nbformat": 4,
 "nbformat_minor": 2
}
